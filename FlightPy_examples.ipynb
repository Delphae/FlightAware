{
 "cells": [
  {
   "cell_type": "markdown",
   "metadata": {},
   "source": [
    "### import the FlightAware Python wrapper - FlightPy"
   ]
  },
  {
   "cell_type": "code",
   "execution_count": 1,
   "metadata": {},
   "outputs": [],
   "source": [
    "from FlightPy import FlightAware"
   ]
  },
  {
   "cell_type": "markdown",
   "metadata": {},
   "source": [
    "### define an instance of FlightAware with your username and api key"
   ]
  },
  {
   "cell_type": "code",
   "execution_count": 2,
   "metadata": {},
   "outputs": [],
   "source": [
    "#https://flightaware.com/commercial/flightxml/key\n",
    "USERNAME = 'YOUR USERNAME'\n",
    "APIKEY   = 'YOUR APIKEY'\n",
    "\n",
    "FA = FlightAware(USERNAME,APIKEY)"
   ]
  },
  {
   "cell_type": "markdown",
   "metadata": {},
   "source": [
    "### airport info"
   ]
  },
  {
   "cell_type": "code",
   "execution_count": 3,
   "metadata": {},
   "outputs": [
    {
     "name": "stdout",
     "output_type": "stream",
     "text": [
      "Amsterdam Schiphol\n",
      "EHAM\n"
     ]
    }
   ],
   "source": [
    "airport = FA.AirportInfo('AMS')\n",
    "\n",
    "print airport.name\n",
    "print airport.airport_code"
   ]
  },
  {
   "cell_type": "markdown",
   "metadata": {},
   "source": [
    "### airline info"
   ]
  },
  {
   "cell_type": "code",
   "execution_count": 4,
   "metadata": {},
   "outputs": [
    {
     "name": "stdout",
     "output_type": "stream",
     "text": [
      "KLM\n",
      "KLM Royal Dutch Airlines\n",
      "https://www.klm.com/\n"
     ]
    }
   ],
   "source": [
    "airline = FA.AirlineInfo('KLM')        \n",
    "\n",
    "print airline.shortname\n",
    "print airline.name\n",
    "print airline.url"
   ]
  },
  {
   "cell_type": "markdown",
   "metadata": {},
   "source": [
    "### flightinfo is a list of flights"
   ]
  },
  {
   "cell_type": "code",
   "execution_count": 5,
   "metadata": {},
   "outputs": [
    {
     "name": "stdout",
     "output_type": "stream",
     "text": [
      "TRA6685-1543645561-airline-0046\n",
      "TRA6685-1543386398-airline-0065\n",
      "TRA6685-1543040760-airline-0014\n",
      "TRA6685-1542780900-schedule-0000\n"
     ]
    }
   ],
   "source": [
    "flightinfo = FA.FlightInfoStatus('TRA6685')\n",
    "\n",
    "for flight in flightinfo:\n",
    "    print flight.faFlightID"
   ]
  },
  {
   "cell_type": "code",
   "execution_count": 6,
   "metadata": {},
   "outputs": [
    {
     "data": {
      "text/plain": [
       "datetime.datetime(2018, 11, 23, 7, 34, 34)"
      ]
     },
     "execution_count": 6,
     "metadata": {},
     "output_type": "execute_result"
    }
   ],
   "source": [
    "flight.ADT"
   ]
  },
  {
   "cell_type": "code",
   "execution_count": 7,
   "metadata": {},
   "outputs": [
    {
     "name": "stdout",
     "output_type": "stream",
     "text": [
      "2018-11-23 07:34:34\n"
     ]
    }
   ],
   "source": [
    "print flight.ADT"
   ]
  },
  {
   "cell_type": "code",
   "execution_count": 8,
   "metadata": {},
   "outputs": [
    {
     "name": "stdout",
     "output_type": "stream",
     "text": [
      "6685\n"
     ]
    }
   ],
   "source": [
    "print flight.flightnumber"
   ]
  },
  {
   "cell_type": "code",
   "execution_count": 9,
   "metadata": {},
   "outputs": [
    {
     "name": "stdout",
     "output_type": "stream",
     "text": [
      "{u'city': u'Eindhoven', u'code': u'EHEH', u'airport_name': u'Eindhoven', u'alternate_ident': u'EIN'}\n",
      "EHEH\n",
      "Eindhoven\n"
     ]
    }
   ],
   "source": [
    "print flight.origin\n",
    "print flight.origin_code\n",
    "print flight.origin_airport\n"
   ]
  },
  {
   "cell_type": "code",
   "execution_count": 10,
   "metadata": {},
   "outputs": [
    {
     "name": "stdout",
     "output_type": "stream",
     "text": [
      "{u'city': u'Innsbruck, Tyrol', u'code': u'LOWI', u'airport_name': u'Innsbruck (Kranebitten)', u'alternate_ident': u'INN'}\n",
      "LOWI\n",
      "Innsbruck (Kranebitten)\n"
     ]
    }
   ],
   "source": [
    "print flight.destination\n",
    "print flight.destination_code\n",
    "print flight.destination_airport"
   ]
  },
  {
   "cell_type": "markdown",
   "metadata": {},
   "source": [
    "### distance between to lat-long coordinates"
   ]
  },
  {
   "cell_type": "code",
   "execution_count": 11,
   "metadata": {},
   "outputs": [
    {
     "name": "stdout",
     "output_type": "stream",
     "text": [
      "4125\n",
      "6638.544\n"
     ]
    }
   ],
   "source": [
    "#https://www.latlong.net/\n",
    "\n",
    "amsterdam = (52.3545653,   4.7585403)\n",
    "chicago   = (41.5122788, -87.6706629)\n",
    "\n",
    "distance = FA.LatLongsToDistance(amsterdam,chicago)\n",
    "print distance.miles\n",
    "print distance.km"
   ]
  },
  {
   "cell_type": "code",
   "execution_count": 17,
   "metadata": {},
   "outputs": [
    {
     "name": "stdout",
     "output_type": "stream",
     "text": [
      "SSM WYNDE8\n",
      "GOPUP334023 HOCKE FNT WYNDE8\n",
      "TVC J548 PECOK PMM WYNDE8\n",
      "4656N/08508W FOLGO ERNNY4\n",
      "BERGI UL602 MIMVA L602 GOW GOMUP NATA DORYY BROME ADSUR YVO ODAXY WYNDE8\n",
      "BERGI UL602 MIMVA L602 LEGRO L602 TLA GOMUP NATA AVUTI N706A YDP JOVIE YVO ODAXY WYNDE8\n",
      "NOTAP067010 ODAXY WYNDE8\n",
      "5800N/02000W 5900N/03000W 5900N/04000W 5700N/05000W HOIST YWK GELLS SSM WYNDE8\n",
      "BERGI UL602 MIMVA L602 NALAX L46 REMSI MOLAK REVNU RESNO NATB CUDDY 550000N/0680000W YFM GRAMP SSM WYNDE8\n",
      "BERGI UL602 SUPUR UP1 GODOS P1 ROKAN M982 SAB M982 FINDO ERAKA NATB SAVRY UDMAR N762A MCKEE SOCAN 500000N/0800000W SSM WYNDE8\n",
      "6200N/03000W 6200N/04000W 6100N/05000W SAVRY N810 UDMAR YFM GRAMP LORNE SSM WYNDE8\n",
      "5900N/02000W 5900N/03000W 5900N/04000W 5900N/05000W BOKTO N676A DUVBI MT ALMOP ODAXY WYNDE8\n",
      "BERGI UL602 MIMVA L602 OKAMA L602 GOW GOMUP NATB CUDDY YDP TEALS MEMSO VETRO SSM WYNDE8\n",
      "6200N/03000W 6100N/04000W 6000N/05000W URTAK N760A VANSI 5000N/07900W SSM WYNDE8\n",
      "5900N/02000W 5900N/03000W 5900N/04000W 5800N/05000W CUDDY YDP 5500N/07000W VETRO SSM WYNDE8\n"
     ]
    }
   ],
   "source": [
    "# routes between Amsterdam (AMS) and Chicago O'Hare (ORD)\n",
    "routes = FA.RoutesBetweenAirports('AMS','ORD')\n",
    "\n",
    "for route in routes:\n",
    "    print route"
   ]
  },
  {
   "cell_type": "code",
   "execution_count": 15,
   "metadata": {},
   "outputs": [
    {
     "name": "stdout",
     "output_type": "stream",
     "text": [
      "11093 km\n"
     ]
    }
   ],
   "source": [
    "print route.route_distance"
   ]
  },
  {
   "cell_type": "code",
   "execution_count": 16,
   "metadata": {},
   "outputs": [
    {
     "name": "stdout",
     "output_type": "stream",
     "text": [
      "2018-11-21 12:50:00\n"
     ]
    }
   ],
   "source": [
    "print route.last_departuretime"
   ]
  },
  {
   "cell_type": "code",
   "execution_count": null,
   "metadata": {},
   "outputs": [],
   "source": []
  }
 ],
 "metadata": {
  "kernelspec": {
   "display_name": "Python 2",
   "language": "python",
   "name": "python2"
  },
  "language_info": {
   "codemirror_mode": {
    "name": "ipython",
    "version": 2
   },
   "file_extension": ".py",
   "mimetype": "text/x-python",
   "name": "python",
   "nbconvert_exporter": "python",
   "pygments_lexer": "ipython2",
   "version": "2.7.15rc1"
  }
 },
 "nbformat": 4,
 "nbformat_minor": 2
}
