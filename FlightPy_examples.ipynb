{
 "cells": [
  {
   "cell_type": "markdown",
   "metadata": {},
   "source": [
    "### Documentation - FlightAware XML API\n",
    "version 2.0\n",
    "https://flightaware.com/commercial/flightxml/documentation2.rvt\n",
    "    \n",
    "version 3.0 (beta)\n",
    "https://flightaware.com/commercial/flightxml/v3/documentation.rvt\n"
   ]
  },
  {
   "cell_type": "raw",
   "metadata": {},
   "source": [
    "'''\n",
    "2018-11-30   v1.1  initial version\n",
    "2018-12-01   v1.2  method AirportBoards added\n",
    "\n",
    "'''"
   ]
  },
  {
   "cell_type": "markdown",
   "metadata": {},
   "source": [
    "### import the FlightAware Python wrapper - FlightPy"
   ]
  },
  {
   "cell_type": "code",
   "execution_count": 17,
   "metadata": {},
   "outputs": [
    {
     "name": "stdout",
     "output_type": "stream",
     "text": [
      "1.4\n",
      "2018-12-02\n"
     ]
    }
   ],
   "source": [
    "from FlightPy import FlightAware\n",
    "from datetime import datetime as dt\n",
    "print FlightAware.__version__\n",
    "print FlightAware.__date__"
   ]
  },
  {
   "cell_type": "markdown",
   "metadata": {},
   "source": [
    "### define an instance of FlightAware with your username and api key"
   ]
  },
  {
   "cell_type": "code",
   "execution_count": 2,
   "metadata": {},
   "outputs": [
    {
     "name": "stdout",
     "output_type": "stream",
     "text": [
      "200 OK\n"
     ]
    }
   ],
   "source": [
    "#https://flightaware.com/commercial/flightxml/key\n",
    "USERNAME = 'YOUR USERNAME'\n",
    "APIKEY   = 'YOUR APIKEY'\n",
    "\n",
    "FA = FlightAware(USERNAME,APIKEY)\n"
   ]
  },
  {
   "cell_type": "markdown",
   "metadata": {},
   "source": [
    "### airport info"
   ]
  },
  {
   "cell_type": "code",
   "execution_count": 3,
   "metadata": {},
   "outputs": [
    {
     "name": "stdout",
     "output_type": "stream",
     "text": [
      "Amsterdam Schiphol\n",
      "EHAM\n"
     ]
    }
   ],
   "source": [
    "airport = FA.AirportInfo('AMS')\n",
    "\n",
    "print airport.name\n",
    "print airport.airport_code"
   ]
  },
  {
   "cell_type": "markdown",
   "metadata": {},
   "source": [
    "### airline info"
   ]
  },
  {
   "cell_type": "code",
   "execution_count": 31,
   "metadata": {},
   "outputs": [
    {
     "name": "stdout",
     "output_type": "stream",
     "text": [
      "KLM\n",
      "KLM Royal Dutch Airlines\n",
      "https://www.klm.com/\n"
     ]
    }
   ],
   "source": [
    "airline = FA.AirlineInfo('KLM')        \n",
    "\n",
    "print airline.shortname\n",
    "print airline.name\n",
    "print airline.url"
   ]
  },
  {
   "cell_type": "markdown",
   "metadata": {},
   "source": [
    "### flightinfo is a list of flights"
   ]
  },
  {
   "cell_type": "code",
   "execution_count": 4,
   "metadata": {},
   "outputs": [
    {
     "name": "stdout",
     "output_type": "stream",
     "text": [
      "TRA6685-1543645561-airline-0046\n",
      "TRA6685-1543386398-airline-0065\n",
      "TRA6685-1543040760-airline-0014\n",
      "TRA6685-1542780900-schedule-0000\n"
     ]
    }
   ],
   "source": [
    "flightinfo = FA.FlightInfoStatus('TRA6685')\n",
    "\n",
    "for flight in flightinfo:\n",
    "    print flight.faFlightID"
   ]
  },
  {
   "cell_type": "code",
   "execution_count": 5,
   "metadata": {},
   "outputs": [
    {
     "data": {
      "text/plain": [
       "datetime.datetime(2018, 11, 23, 7, 34, 34)"
      ]
     },
     "execution_count": 5,
     "metadata": {},
     "output_type": "execute_result"
    }
   ],
   "source": [
    "flight.ADT"
   ]
  },
  {
   "cell_type": "code",
   "execution_count": 6,
   "metadata": {},
   "outputs": [
    {
     "name": "stdout",
     "output_type": "stream",
     "text": [
      "2018-11-23 07:34:34\n"
     ]
    }
   ],
   "source": [
    "print flight.ADT"
   ]
  },
  {
   "cell_type": "code",
   "execution_count": 35,
   "metadata": {},
   "outputs": [
    {
     "name": "stdout",
     "output_type": "stream",
     "text": [
      "6685\n"
     ]
    }
   ],
   "source": [
    "print flight.flightnumber"
   ]
  },
  {
   "cell_type": "code",
   "execution_count": 36,
   "metadata": {},
   "outputs": [
    {
     "name": "stdout",
     "output_type": "stream",
     "text": [
      "{u'city': u'Eindhoven', u'code': u'EHEH', u'airport_name': u'Eindhoven', u'alternate_ident': u'EIN'}\n",
      "EHEH\n",
      "Eindhoven\n"
     ]
    }
   ],
   "source": [
    "print flight.origin\n",
    "print flight.origin_code\n",
    "print flight.origin_airport\n"
   ]
  },
  {
   "cell_type": "code",
   "execution_count": 37,
   "metadata": {},
   "outputs": [
    {
     "name": "stdout",
     "output_type": "stream",
     "text": [
      "{u'city': u'Innsbruck, Tyrol', u'code': u'LOWI', u'airport_name': u'Innsbruck (Kranebitten)', u'alternate_ident': u'INN'}\n",
      "LOWI\n",
      "Innsbruck (Kranebitten)\n"
     ]
    }
   ],
   "source": [
    "print flight.destination\n",
    "print flight.destination_code\n",
    "print flight.destination_airport"
   ]
  },
  {
   "cell_type": "markdown",
   "metadata": {},
   "source": [
    "### distance between to lat-lon coordinates"
   ]
  },
  {
   "cell_type": "code",
   "execution_count": 8,
   "metadata": {},
   "outputs": [
    {
     "name": "stdout",
     "output_type": "stream",
     "text": [
      "4125\n",
      "6638.544\n"
     ]
    }
   ],
   "source": [
    "#https://www.latlong.net/\n",
    "#use mapquest.com to get lat-lon coordinates\n",
    "\n",
    "amsterdam = (52.3545653,   4.7585403)\n",
    "chicago   = (41.5122788, -87.6706629)\n",
    "\n",
    "distance = FA.LatLongsToDistance(amsterdam,chicago)\n",
    "print distance.miles\n",
    "print distance.km"
   ]
  },
  {
   "cell_type": "code",
   "execution_count": 9,
   "metadata": {},
   "outputs": [
    {
     "name": "stdout",
     "output_type": "stream",
     "text": [
      "SSM WYNDE8\n",
      "TVC J548 PECOK PMM WYNDE8\n",
      "TVC J548 PMM WYNDE8\n",
      "GOPUP334023 HOCKE FNT WYNDE8\n",
      "BERGI UL602 MIMVA L602 LEGRO L602 TLA GOMUP NATA AVUTI N706A YDP JOVIE YVO ODAXY WYNDE8\n",
      "BERGI UL602 SUPUR UP1 GODOS M981 NATEB L602 TLA GOMUP NATA AVUTI N708A YDP N714A ROUND N714A SSM WYNDE8\n",
      "NOTAP067010 ODAXY WYNDE8\n",
      "5800N/02000W 5900N/03000W 5900N/04000W 5700N/05000W HOIST YWK GELLS SSM WYNDE8\n",
      "BERGI UL602 SUPUR UP1 GODOS P1 ROKAN M982 SAB M982 FINDO ERAKA NATB SAVRY UDMAR N762A MCKEE SOCAN 500000N/0800000W SSM WYNDE8\n",
      "6200N/03000W 6200N/04000W 6100N/05000W SAVRY N810 UDMAR YFM GRAMP LORNE SSM WYNDE8\n",
      "5900N/02000W 5900N/03000W 5900N/04000W 5900N/05000W BOKTO N676A DUVBI MT ALMOP ODAXY WYNDE8\n",
      "BERGI UL602 MIMVA L602 OKAMA L602 GOW GOMUP NATB CUDDY YDP TEALS MEMSO VETRO SSM WYNDE8\n",
      "6200N/03000W 6100N/04000W 6000N/05000W URTAK N760A VANSI 5000N/07900W SSM WYNDE8\n",
      "5900N/02000W 5900N/03000W 5900N/04000W 5800N/05000W CUDDY YDP 5500N/07000W VETRO SSM WYNDE8\n",
      "BERGI UL602 MIMVA L602 NALAX L46 REMSI APSOV SUNOT NATB URTAK N756A LOMTA 550000N/0700000W MEMSO VETRO SSM WYNDE8\n"
     ]
    }
   ],
   "source": [
    "# routes between Amsterdam (AMS) and Chicago O'Hare (ORD)\n",
    "routes = FA.RoutesBetweenAirports('AMS','ORD')\n",
    "\n",
    "for route in routes:\n",
    "    print route"
   ]
  },
  {
   "cell_type": "code",
   "execution_count": 10,
   "metadata": {},
   "outputs": [
    {
     "name": "stdout",
     "output_type": "stream",
     "text": [
      "6769 km\n"
     ]
    }
   ],
   "source": [
    "print route.route_distance"
   ]
  },
  {
   "cell_type": "code",
   "execution_count": 11,
   "metadata": {},
   "outputs": [
    {
     "name": "stdout",
     "output_type": "stream",
     "text": [
      "2018-11-20 11:10:00\n"
     ]
    }
   ],
   "source": [
    "print route.last_departuretime"
   ]
  },
  {
   "cell_type": "markdown",
   "metadata": {},
   "source": [
    "### airport boards"
   ]
  },
  {
   "cell_type": "code",
   "execution_count": 12,
   "metadata": {},
   "outputs": [],
   "source": [
    "airportboards  = FA.AirportBoards('AMS')"
   ]
  },
  {
   "cell_type": "code",
   "execution_count": 13,
   "metadata": {},
   "outputs": [
    {
     "name": "stdout",
     "output_type": "stream",
     "text": [
      "BA  426   20:03 London, England           20:44 Amsterdam\n",
      "KL  1934  19:33 Geneva                    20:43 Amsterdam\n",
      "U2  7940  19:16 Milan                     20:41 Amsterdam\n",
      "KL  1150  19:11 Oslo                      20:39 Amsterdam\n",
      "KL  1964  19:23 Zurich                    20:38 Amsterdam\n",
      "VY  6814  18:45 Florence (Firenze)        20:35 Amsterdam\n",
      "U2  7011  19:44 Liverpool, England        20:34 Amsterdam\n",
      "KL  1478  19:26 Glasgow, Scotland         20:32 Amsterdam\n",
      "U2  8881  19:48 London, England           20:31 Amsterdam\n",
      "HV  5564  18:49 Katowice                  20:28 Amsterdam\n",
      "DS  1357  19:04 Geneva                    20:26 Amsterdam\n",
      "U2  4567  19:21 Berlin                    20:25 Amsterdam\n",
      "BA  2764  19:43 London, England           20:23 Amsterdam\n",
      "U2  1835  19:34 Manchester, England       20:21 Amsterdam\n",
      "HV  6602  19:00 Innsbruck, Tyrol          20:17 Amsterdam\n"
     ]
    }
   ],
   "source": [
    "for flight in airportboards.arrivals:\n",
    "    print flight"
   ]
  },
  {
   "cell_type": "code",
   "execution_count": 14,
   "metadata": {},
   "outputs": [
    {
     "name": "stdout",
     "output_type": "stream",
     "text": [
      "AF  1441  20:46 Amsterdam                 01:00 Paris\n",
      "KL  1177  20:45 Amsterdam                 01:00 Stjordal, Nord\n",
      "KL  1991  20:44 Amsterdam                 01:00 Basel\n",
      "RO  364   20:42 Amsterdam                 01:00 Bucharest\n",
      "KL  1033  20:42 Amsterdam                 01:00 London, England\n",
      "KL  1689  20:41 Amsterdam                 01:00 Bilbao / Bilbo, Viscaya\n",
      "KL  1171  20:40 Amsterdam                 01:00 Vantaa\n",
      "EI  845   20:39 Amsterdam                 01:00 Cork\n",
      "KL  1211  20:38 Amsterdam                 01:00 Kristiansand, Vest\n",
      "AF  1893  20:37 Amsterdam                 01:00 Nantes\n",
      "EI  611   20:35 Amsterdam                 01:00 Dublin\n",
      "U2  2170  20:33 Amsterdam                 01:00 London, England\n",
      "EY  78    20:32 Amsterdam                 01:00 Abu Dhabi\n",
      "LX  735   20:29 Amsterdam                 01:00 Zurich\n",
      "JP  499   20:21 Amsterdam                 01:00 Ljubljana\n"
     ]
    }
   ],
   "source": [
    "for flight in airportboards.departures:\n",
    "    print flight"
   ]
  },
  {
   "cell_type": "code",
   "execution_count": 15,
   "metadata": {},
   "outputs": [],
   "source": [
    "weather = FA.WeatherConditions('EIN')"
   ]
  },
  {
   "cell_type": "code",
   "execution_count": 18,
   "metadata": {},
   "outputs": [
    {
     "name": "stdout",
     "output_type": "stream",
     "text": [
      "2018-12-02 20:25:00 13 11 220\n",
      "2018-12-02 20:16:00 13 11 220\n",
      "2018-12-02 20:12:00 13 11 220\n",
      "2018-12-02 19:55:00 13 8 230\n",
      "2018-12-02 19:25:00 14 12 240\n",
      "2018-12-02 19:17:00 14 13 240\n",
      "2018-12-02 19:13:00 14 13 240\n",
      "2018-12-02 19:04:00 13 12 240\n",
      "2018-12-02 18:56:00 14 11 240\n",
      "2018-12-02 18:55:00 13 10 240\n",
      "2018-12-02 18:38:00 13 10 230\n",
      "2018-12-02 18:33:00 13 9 230\n",
      "2018-12-02 18:25:00 13 10 240\n",
      "2018-12-02 18:14:00 13 11 230\n",
      "2018-12-02 18:03:00 13 12 240\n"
     ]
    }
   ],
   "source": [
    "for item in weather:\n",
    "    print str(dt.fromtimestamp(item.time)), item.temp_air, item.wind_speed, item.wind_direction"
   ]
  },
  {
   "cell_type": "code",
   "execution_count": 20,
   "metadata": {},
   "outputs": [
    {
     "data": {
      "text/plain": [
       "{u'airport_code': u'EHEH',\n",
       " u'cloud_friendly': u'Scattered clouds',\n",
       " u'clouds': [{u'altitude': 1300, u'symbol': u'FEW013', u'type': u'FEW'},\n",
       "  {u'altitude': 1500, u'symbol': u'BKN015', u'type': u'BKN'},\n",
       "  {u'altitude': 2200, u'symbol': u'BKN022', u'type': u'BKN'}],\n",
       " u'conditions': u'',\n",
       " u'pressure': 1000,\n",
       " u'pressure_units': u'mb',\n",
       " u'raw_data': u'EHEH 021703Z AUTO 24012KT 210V280 9999 FEW013 BKN015 BKN022 13/12 Q1000 WHT 23012G22KT 9999 FEW007 BKN015 BKN025 TEMPO -DZRA SCT007 SCT010 BKN015',\n",
       " u'temp_air': 13,\n",
       " u'temp_dewpoint': 12,\n",
       " u'temp_perceived': u'13',\n",
       " u'temp_relhum': 94,\n",
       " u'time': 1543770180,\n",
       " u'visibility': 9999,\n",
       " u'visibility_units': u'meters',\n",
       " u'wind_direction': 240,\n",
       " u'wind_friendly': u'Windy',\n",
       " u'wind_speed': 12,\n",
       " u'wind_speed_gust': 0,\n",
       " u'wind_units': u'KT'}"
      ]
     },
     "execution_count": 20,
     "metadata": {},
     "output_type": "execute_result"
    }
   ],
   "source": [
    "item.__dict__"
   ]
  },
  {
   "cell_type": "code",
   "execution_count": null,
   "metadata": {},
   "outputs": [],
   "source": []
  }
 ],
 "metadata": {
  "kernelspec": {
   "display_name": "Python 2",
   "language": "python",
   "name": "python2"
  },
  "language_info": {
   "codemirror_mode": {
    "name": "ipython",
    "version": 2
   },
   "file_extension": ".py",
   "mimetype": "text/x-python",
   "name": "python",
   "nbconvert_exporter": "python",
   "pygments_lexer": "ipython2",
   "version": "2.7.15rc1"
  }
 },
 "nbformat": 4,
 "nbformat_minor": 2
}
