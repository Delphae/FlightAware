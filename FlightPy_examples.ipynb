{
 "cells": [
  {
   "cell_type": "markdown",
   "metadata": {},
   "source": [
    "### Documentation - FlightAware XML API\n",
    "version 2.0\n",
    "https://flightaware.com/commercial/flightxml/documentation2.rvt\n",
    "    \n",
    "version 3.0 (beta)\n",
    "https://flightaware.com/commercial/flightxml/v3/documentation.rvt\n"
   ]
  },
  {
   "cell_type": "code",
   "execution_count": 27,
   "metadata": {},
   "outputs": [
    {
     "data": {
      "text/plain": [
       "'\\n2018-11-30   v1.1  initial version\\n2018-12-01   v1.2  method AirportBoards added\\n\\n'"
      ]
     },
     "execution_count": 27,
     "metadata": {},
     "output_type": "execute_result"
    }
   ],
   "source": [
    "'''\n",
    "2018-11-30   v1.1  initial version\n",
    "2018-12-01   v1.2  method AirportBoards added\n",
    "\n",
    "'''"
   ]
  },
  {
   "cell_type": "markdown",
   "metadata": {},
   "source": [
    "### import the FlightAware Python wrapper - FlightPy"
   ]
  },
  {
   "cell_type": "code",
   "execution_count": 28,
   "metadata": {},
   "outputs": [
    {
     "name": "stdout",
     "output_type": "stream",
     "text": [
      "1.2\n",
      "2018-12-01\n"
     ]
    }
   ],
   "source": [
    "from FlightPy import FlightAware\n",
    "print FlightAware.__version__\n",
    "print FlightAware.__date__"
   ]
  },
  {
   "cell_type": "markdown",
   "metadata": {},
   "source": [
    "### define an instance of FlightAware with your username and api key"
   ]
  },
  {
   "cell_type": "code",
   "execution_count": 29,
   "metadata": {},
   "outputs": [],
   "source": [
    "#https://flightaware.com/commercial/flightxml/key\n",
    "USERNAME = 'YOUR USERNAME'\n",
    "APIKEY   = 'YOUR APIKEY'\n",
    "\n",
    "FA = FlightAware(USERNAME,APIKEY)"
   ]
  },
  {
   "cell_type": "markdown",
   "metadata": {},
   "source": [
    "### airport info"
   ]
  },
  {
   "cell_type": "code",
   "execution_count": 30,
   "metadata": {},
   "outputs": [
    {
     "name": "stdout",
     "output_type": "stream",
     "text": [
      "Amsterdam Schiphol\n",
      "EHAM\n"
     ]
    }
   ],
   "source": [
    "airport = FA.AirportInfo('AMS')\n",
    "\n",
    "print airport.name\n",
    "print airport.airport_code"
   ]
  },
  {
   "cell_type": "markdown",
   "metadata": {},
   "source": [
    "### airline info"
   ]
  },
  {
   "cell_type": "code",
   "execution_count": 31,
   "metadata": {},
   "outputs": [
    {
     "name": "stdout",
     "output_type": "stream",
     "text": [
      "KLM\n",
      "KLM Royal Dutch Airlines\n",
      "https://www.klm.com/\n"
     ]
    }
   ],
   "source": [
    "airline = FA.AirlineInfo('KLM')        \n",
    "\n",
    "print airline.shortname\n",
    "print airline.name\n",
    "print airline.url"
   ]
  },
  {
   "cell_type": "markdown",
   "metadata": {},
   "source": [
    "### flightinfo is a list of flights"
   ]
  },
  {
   "cell_type": "code",
   "execution_count": 32,
   "metadata": {},
   "outputs": [
    {
     "name": "stdout",
     "output_type": "stream",
     "text": [
      "TRA6685-1543645561-airline-0046\n",
      "TRA6685-1543386398-airline-0065\n",
      "TRA6685-1543040760-airline-0014\n",
      "TRA6685-1542780900-schedule-0000\n"
     ]
    }
   ],
   "source": [
    "flightinfo = FA.FlightInfoStatus('TRA6685')\n",
    "\n",
    "for flight in flightinfo:\n",
    "    print flight.faFlightID"
   ]
  },
  {
   "cell_type": "code",
   "execution_count": 33,
   "metadata": {},
   "outputs": [
    {
     "data": {
      "text/plain": [
       "datetime.datetime(2018, 11, 23, 7, 34, 34)"
      ]
     },
     "execution_count": 33,
     "metadata": {},
     "output_type": "execute_result"
    }
   ],
   "source": [
    "flight.ADT"
   ]
  },
  {
   "cell_type": "code",
   "execution_count": 34,
   "metadata": {},
   "outputs": [
    {
     "name": "stdout",
     "output_type": "stream",
     "text": [
      "2018-11-23 07:34:34\n"
     ]
    }
   ],
   "source": [
    "print flight.ADT"
   ]
  },
  {
   "cell_type": "code",
   "execution_count": 35,
   "metadata": {},
   "outputs": [
    {
     "name": "stdout",
     "output_type": "stream",
     "text": [
      "6685\n"
     ]
    }
   ],
   "source": [
    "print flight.flightnumber"
   ]
  },
  {
   "cell_type": "code",
   "execution_count": 36,
   "metadata": {},
   "outputs": [
    {
     "name": "stdout",
     "output_type": "stream",
     "text": [
      "{u'city': u'Eindhoven', u'code': u'EHEH', u'airport_name': u'Eindhoven', u'alternate_ident': u'EIN'}\n",
      "EHEH\n",
      "Eindhoven\n"
     ]
    }
   ],
   "source": [
    "print flight.origin\n",
    "print flight.origin_code\n",
    "print flight.origin_airport\n"
   ]
  },
  {
   "cell_type": "code",
   "execution_count": 37,
   "metadata": {},
   "outputs": [
    {
     "name": "stdout",
     "output_type": "stream",
     "text": [
      "{u'city': u'Innsbruck, Tyrol', u'code': u'LOWI', u'airport_name': u'Innsbruck (Kranebitten)', u'alternate_ident': u'INN'}\n",
      "LOWI\n",
      "Innsbruck (Kranebitten)\n"
     ]
    }
   ],
   "source": [
    "print flight.destination\n",
    "print flight.destination_code\n",
    "print flight.destination_airport"
   ]
  },
  {
   "cell_type": "markdown",
   "metadata": {},
   "source": [
    "### distance between to lat-long coordinates"
   ]
  },
  {
   "cell_type": "code",
   "execution_count": 38,
   "metadata": {},
   "outputs": [
    {
     "name": "stdout",
     "output_type": "stream",
     "text": [
      "4125\n",
      "6638.544\n"
     ]
    }
   ],
   "source": [
    "#https://www.latlong.net/\n",
    "\n",
    "amsterdam = (52.3545653,   4.7585403)\n",
    "chicago   = (41.5122788, -87.6706629)\n",
    "\n",
    "distance = FA.LatLongsToDistance(amsterdam,chicago)\n",
    "print distance.miles\n",
    "print distance.km"
   ]
  },
  {
   "cell_type": "code",
   "execution_count": 45,
   "metadata": {},
   "outputs": [
    {
     "name": "stdout",
     "output_type": "stream",
     "text": [
      "SSM WYNDE8\n",
      "4656N/08508W FOLGO ERNNY4\n",
      "GOPUP334023 HOCKE FNT WYNDE8\n",
      "TVC J548 PMM WYNDE8\n",
      "TVC J548 PECOK PMM WYNDE8\n",
      "BERGI UL602 MIMVA L602 NALAX L46 GETNO L46 REMSI NIBOG RESNO NATC AVUTI PRAWN TEALS PEMLU SSM WYNDE8\n",
      "BERGI UL602 MIMVA L602 LEGRO L602 TLA GOMUP NATA AVUTI N706A YDP JOVIE YVO ODAXY WYNDE8\n",
      "BERGI UL602 MIMVA L602 NALAX L46 REMSI APSOV SUNOT NATB URTAK N756A LOMTA 550000N/0700000W MEMSO VETRO SSM WYNDE8\n",
      "NOTAP067010 ODAXY WYNDE8\n",
      "5800N/02000W 5900N/03000W 5900N/04000W 5700N/05000W HOIST YWK GELLS SSM WYNDE8\n",
      "BERGI UL602 SUPUR UP1 GODOS M981 NATEB L602 TLA GOMUP NATA BOKTO YDP YKL YVO ODAXY WYNDE8\n",
      "BERGI UL602 SUPUR UP1 GODOS P1 ROKAN M982 SAB M982 FINDO ERAKA NATB SAVRY UDMAR N762A MCKEE SOCAN 500000N/0800000W SSM WYNDE8\n",
      "6200N/03000W 6200N/04000W 6100N/05000W SAVRY N810 UDMAR YFM GRAMP LORNE SSM WYNDE8\n",
      "BERGI UL602 MIMVA L602 NALAX L46 REMSI MOLAK REVNU RESNO NATB CUDDY 550000N/0680000W YFM GRAMP SSM WYNDE8\n",
      "5900N/02000W 5900N/03000W 5900N/04000W 5900N/05000W BOKTO N676A DUVBI MT ALMOP ODAXY WYNDE8\n"
     ]
    }
   ],
   "source": [
    "# routes between Amsterdam (AMS) and Chicago O'Hare (ORD)\n",
    "routes = FA.RoutesBetweenAirports('AMS','ORD')\n",
    "\n",
    "for route in routes:\n",
    "    print route"
   ]
  },
  {
   "cell_type": "code",
   "execution_count": 40,
   "metadata": {},
   "outputs": [
    {
     "name": "stdout",
     "output_type": "stream",
     "text": [
      "6732 km\n"
     ]
    }
   ],
   "source": [
    "print route.route_distance"
   ]
  },
  {
   "cell_type": "code",
   "execution_count": 41,
   "metadata": {},
   "outputs": [
    {
     "name": "stdout",
     "output_type": "stream",
     "text": [
      "2018-11-24 12:50:00\n"
     ]
    }
   ],
   "source": [
    "print route.last_departuretime"
   ]
  },
  {
   "cell_type": "markdown",
   "metadata": {},
   "source": [
    "### airport boards"
   ]
  },
  {
   "cell_type": "code",
   "execution_count": 46,
   "metadata": {},
   "outputs": [],
   "source": [
    "airportboards  = FA.AirportBoards('AMS')"
   ]
  },
  {
   "cell_type": "code",
   "execution_count": 47,
   "metadata": {},
   "outputs": [
    {
     "name": "stdout",
     "output_type": "stream",
     "text": [
      "BE  4415  19:28 South Yorkshire, England  20:15 Amsterdam\n",
      "KL  1134  19:04 Copenhagen                20:04 Amsterdam\n",
      "HV  5134  17:59 Barcelona                 20:01 Amsterdam\n",
      "BE  1281  19:06 Manchester, England       19:57 Amsterdam\n",
      "KL  9866  18:27 Glasgow, Scotland         19:56 Amsterdam\n",
      "BA  442   19:13 London, England           19:53 Amsterdam\n",
      "KL  1030  19:05 London, England           19:49 Amsterdam\n",
      "KL  1656  18:09 Venice (Venezia)          19:47 Amsterdam\n",
      "KL  938   18:41 Dublin                    19:46 Amsterdam\n",
      "KL  1604  17:42 Rome                      19:46 Amsterdam\n",
      "KL  1244  18:52 Paris                     19:44 Amsterdam\n",
      "OR  60B   15:15 Gran Canaria              19:43 Amsterdam\n",
      "KL  1674  17:29 Barcelona                 19:43 Amsterdam\n",
      "EK  149   13:12 Dubai                     19:42 Amsterdam\n",
      "KL  1348  18:38 Billund                   19:41 Amsterdam\n"
     ]
    }
   ],
   "source": [
    "for flight in airportboards.arrivals:\n",
    "    print flight"
   ]
  },
  {
   "cell_type": "code",
   "execution_count": 48,
   "metadata": {},
   "outputs": [
    {
     "name": "stdout",
     "output_type": "stream",
     "text": [
      "LX  735   20:20 Amsterdam                 01:00 Zurich\n",
      "\n",
      "LO  268   20:08 Amsterdam                 01:00 Warsaw\n",
      "CL  2309  20:03 Amsterdam                 01:00 Munich\n",
      "AZ  113   19:49 Amsterdam                 01:00 Milan\n",
      "BA  441   19:42 Amsterdam                 20:21 London, England\n",
      "FR  2335  19:37 Amsterdam                 01:00 Malaga\n",
      "AY  1306  19:23 Amsterdam                 01:00 Vantaa\n",
      "HV  72    19:22 Amsterdam                 19:29 Amsterdam\n",
      "VY  8323  19:05 Amsterdam                 01:00 Barcelona\n",
      "LH  997   19:03 Amsterdam                 19:43 Frankfurt am Main\n",
      "UX  1094  19:01 Amsterdam                 01:00 Madrid\n",
      "VY  8406  19:00 Amsterdam                 19:45 London, England\n",
      "BT  620   18:47 Amsterdam                 01:00 RIGA\n",
      "FR  3105  18:34 Amsterdam                 19:50 Dublin\n"
     ]
    }
   ],
   "source": [
    "for flight in airportboards.departures:\n",
    "    print flight"
   ]
  },
  {
   "cell_type": "code",
   "execution_count": null,
   "metadata": {},
   "outputs": [],
   "source": []
  }
 ],
 "metadata": {
  "kernelspec": {
   "display_name": "Python 2",
   "language": "python",
   "name": "python2"
  },
  "language_info": {
   "codemirror_mode": {
    "name": "ipython",
    "version": 2
   },
   "file_extension": ".py",
   "mimetype": "text/x-python",
   "name": "python",
   "nbconvert_exporter": "python",
   "pygments_lexer": "ipython2",
   "version": "2.7.15rc1"
  }
 },
 "nbformat": 4,
 "nbformat_minor": 2
}
